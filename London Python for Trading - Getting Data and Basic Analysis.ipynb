{
 "cells": [
  {
   "cell_type": "markdown",
   "metadata": {},
   "source": [
    "### London Python for Trading\n",
    "\n",
    "##### Welcome to the first interactive notebook!\n",
    "\n",
    "-------------------------------------------------\n",
    "\n",
    "First let's install all of the necessary packages:"
   ]
  },
  {
   "cell_type": "code",
   "execution_count": 23,
   "metadata": {},
   "outputs": [
    {
     "name": "stdout",
     "output_type": "stream",
     "text": [
      "Using matplotlib backend: Qt5Agg\n",
      "Populating the interactive namespace from numpy and matplotlib\n"
     ]
    }
   ],
   "source": [
    "import quandl\n",
    "import numpy as np\n",
    "import pandas as pd\n",
    "import matplotlib as mpl\n",
    "import matplotlib.pyplot as plt\n",
    "%pylab\n",
    "%matplotlib inline"
   ]
  },
  {
   "cell_type": "markdown",
   "metadata": {},
   "source": [
    "*What are these?*\n",
    "\n",
    "**quandl** is the package we will use to pull stock price data  \n",
    "**numpy** is a scientific package, most useful for its array operations  \n",
    "**pandas** is a data analysis package  \n",
    "**matplotlib** is a chart and plotting package. In particular matplotlib.pyplot is the main plotting tool that we will be using, so we import it as \"plt\" for ease of use  \n",
    "\n",
    "\"**% pylab inline**\" is a Jupyter Notebook magic commands. We must include this in order to use Jupyter Notebook features such as inline plotting"
   ]
  },
  {
   "cell_type": "markdown",
   "metadata": {},
   "source": [
    "*Now let's get some data  *\n",
    "\n",
    "We are going to pull in daily price data using the quandl API. The stock we will choose is Apple  \n",
    "\n",
    "The data is provided in the form of OHLCV bars - giving the daily open, high, low and close price of the stock, as well as the day's trading volume  \n",
    "\n",
    "quandl also provides additional data, for example accounting for stock splits. The importance of these adjustments will become clear when we come to plotting the data  \n",
    "\n",
    "quandl provides a handy function to get data. We just need to provide with 3 parameters: the stock symbol, a start date and an end date  \n",
    "\n",
    "We can look up the symbol using the [quandl data browser](https://www.quandl.com/search?query=) and we save our data in a pandas dataframe that we will call \"aapl\""
   ]
  },
  {
   "cell_type": "code",
   "execution_count": 3,
   "metadata": {
    "collapsed": true
   },
   "outputs": [],
   "source": [
    "ticker = \"WIKI/AAPL\"\n",
    "start_date = '2012-01-01'\n",
    "end_date = '2017-11-30'\n",
    "\n",
    "aapl = quandl.get(ticker, start_date=start_date, end_date=end_date)"
   ]
  },
  {
   "cell_type": "markdown",
   "metadata": {},
   "source": [
    "We can view our data by using the pandas \"head\" and \"tail\" methods, which display the top and bottom 5 rows of the dataframe by default, or the top and bottom n rows as specified by the user:"
   ]
  },
  {
   "cell_type": "code",
   "execution_count": 4,
   "metadata": {},
   "outputs": [
    {
     "data": {
      "text/html": [
       "<div>\n",
       "<style>\n",
       "    .dataframe thead tr:only-child th {\n",
       "        text-align: right;\n",
       "    }\n",
       "\n",
       "    .dataframe thead th {\n",
       "        text-align: left;\n",
       "    }\n",
       "\n",
       "    .dataframe tbody tr th {\n",
       "        vertical-align: top;\n",
       "    }\n",
       "</style>\n",
       "<table border=\"1\" class=\"dataframe\">\n",
       "  <thead>\n",
       "    <tr style=\"text-align: right;\">\n",
       "      <th></th>\n",
       "      <th>Open</th>\n",
       "      <th>High</th>\n",
       "      <th>Low</th>\n",
       "      <th>Close</th>\n",
       "      <th>Volume</th>\n",
       "      <th>Ex-Dividend</th>\n",
       "      <th>Split Ratio</th>\n",
       "      <th>Adj. Open</th>\n",
       "      <th>Adj. High</th>\n",
       "      <th>Adj. Low</th>\n",
       "      <th>Adj. Close</th>\n",
       "      <th>Adj. Volume</th>\n",
       "    </tr>\n",
       "    <tr>\n",
       "      <th>Date</th>\n",
       "      <th></th>\n",
       "      <th></th>\n",
       "      <th></th>\n",
       "      <th></th>\n",
       "      <th></th>\n",
       "      <th></th>\n",
       "      <th></th>\n",
       "      <th></th>\n",
       "      <th></th>\n",
       "      <th></th>\n",
       "      <th></th>\n",
       "      <th></th>\n",
       "    </tr>\n",
       "  </thead>\n",
       "  <tbody>\n",
       "    <tr>\n",
       "      <th>2012-01-03</th>\n",
       "      <td>409.4000</td>\n",
       "      <td>412.50</td>\n",
       "      <td>409.00</td>\n",
       "      <td>411.23</td>\n",
       "      <td>10793600.0</td>\n",
       "      <td>0.0</td>\n",
       "      <td>1.0</td>\n",
       "      <td>52.613606</td>\n",
       "      <td>53.011999</td>\n",
       "      <td>52.562200</td>\n",
       "      <td>52.848787</td>\n",
       "      <td>75555200.0</td>\n",
       "    </tr>\n",
       "    <tr>\n",
       "      <th>2012-01-04</th>\n",
       "      <td>410.0000</td>\n",
       "      <td>414.68</td>\n",
       "      <td>409.28</td>\n",
       "      <td>413.44</td>\n",
       "      <td>9286500.0</td>\n",
       "      <td>0.0</td>\n",
       "      <td>1.0</td>\n",
       "      <td>52.690714</td>\n",
       "      <td>53.292160</td>\n",
       "      <td>52.598184</td>\n",
       "      <td>53.132802</td>\n",
       "      <td>65005500.0</td>\n",
       "    </tr>\n",
       "    <tr>\n",
       "      <th>2012-01-05</th>\n",
       "      <td>414.9500</td>\n",
       "      <td>418.55</td>\n",
       "      <td>412.67</td>\n",
       "      <td>418.03</td>\n",
       "      <td>9688200.0</td>\n",
       "      <td>0.0</td>\n",
       "      <td>1.0</td>\n",
       "      <td>53.326858</td>\n",
       "      <td>53.789509</td>\n",
       "      <td>53.033847</td>\n",
       "      <td>53.722681</td>\n",
       "      <td>67817400.0</td>\n",
       "    </tr>\n",
       "    <tr>\n",
       "      <th>2012-01-06</th>\n",
       "      <td>419.7700</td>\n",
       "      <td>422.75</td>\n",
       "      <td>419.22</td>\n",
       "      <td>422.40</td>\n",
       "      <td>11367600.0</td>\n",
       "      <td>0.0</td>\n",
       "      <td>1.0</td>\n",
       "      <td>53.946296</td>\n",
       "      <td>54.329267</td>\n",
       "      <td>53.875613</td>\n",
       "      <td>54.284287</td>\n",
       "      <td>79573200.0</td>\n",
       "    </tr>\n",
       "    <tr>\n",
       "      <th>2012-01-09</th>\n",
       "      <td>425.5001</td>\n",
       "      <td>427.75</td>\n",
       "      <td>421.35</td>\n",
       "      <td>421.73</td>\n",
       "      <td>14072300.0</td>\n",
       "      <td>0.0</td>\n",
       "      <td>1.0</td>\n",
       "      <td>54.682693</td>\n",
       "      <td>54.971837</td>\n",
       "      <td>54.149348</td>\n",
       "      <td>54.198183</td>\n",
       "      <td>98506100.0</td>\n",
       "    </tr>\n",
       "  </tbody>\n",
       "</table>\n",
       "</div>"
      ],
      "text/plain": [
       "                Open    High     Low   Close      Volume  Ex-Dividend  \\\n",
       "Date                                                                    \n",
       "2012-01-03  409.4000  412.50  409.00  411.23  10793600.0          0.0   \n",
       "2012-01-04  410.0000  414.68  409.28  413.44   9286500.0          0.0   \n",
       "2012-01-05  414.9500  418.55  412.67  418.03   9688200.0          0.0   \n",
       "2012-01-06  419.7700  422.75  419.22  422.40  11367600.0          0.0   \n",
       "2012-01-09  425.5001  427.75  421.35  421.73  14072300.0          0.0   \n",
       "\n",
       "            Split Ratio  Adj. Open  Adj. High   Adj. Low  Adj. Close  \\\n",
       "Date                                                                   \n",
       "2012-01-03          1.0  52.613606  53.011999  52.562200   52.848787   \n",
       "2012-01-04          1.0  52.690714  53.292160  52.598184   53.132802   \n",
       "2012-01-05          1.0  53.326858  53.789509  53.033847   53.722681   \n",
       "2012-01-06          1.0  53.946296  54.329267  53.875613   54.284287   \n",
       "2012-01-09          1.0  54.682693  54.971837  54.149348   54.198183   \n",
       "\n",
       "            Adj. Volume  \n",
       "Date                     \n",
       "2012-01-03   75555200.0  \n",
       "2012-01-04   65005500.0  \n",
       "2012-01-05   67817400.0  \n",
       "2012-01-06   79573200.0  \n",
       "2012-01-09   98506100.0  "
      ]
     },
     "execution_count": 4,
     "metadata": {},
     "output_type": "execute_result"
    }
   ],
   "source": [
    "aapl.head()"
   ]
  },
  {
   "cell_type": "code",
   "execution_count": 5,
   "metadata": {},
   "outputs": [
    {
     "data": {
      "text/html": [
       "<div>\n",
       "<style>\n",
       "    .dataframe thead tr:only-child th {\n",
       "        text-align: right;\n",
       "    }\n",
       "\n",
       "    .dataframe thead th {\n",
       "        text-align: left;\n",
       "    }\n",
       "\n",
       "    .dataframe tbody tr th {\n",
       "        vertical-align: top;\n",
       "    }\n",
       "</style>\n",
       "<table border=\"1\" class=\"dataframe\">\n",
       "  <thead>\n",
       "    <tr style=\"text-align: right;\">\n",
       "      <th></th>\n",
       "      <th>Open</th>\n",
       "      <th>High</th>\n",
       "      <th>Low</th>\n",
       "      <th>Close</th>\n",
       "      <th>Volume</th>\n",
       "      <th>Ex-Dividend</th>\n",
       "      <th>Split Ratio</th>\n",
       "      <th>Adj. Open</th>\n",
       "      <th>Adj. High</th>\n",
       "      <th>Adj. Low</th>\n",
       "      <th>Adj. Close</th>\n",
       "      <th>Adj. Volume</th>\n",
       "    </tr>\n",
       "    <tr>\n",
       "      <th>Date</th>\n",
       "      <th></th>\n",
       "      <th></th>\n",
       "      <th></th>\n",
       "      <th></th>\n",
       "      <th></th>\n",
       "      <th></th>\n",
       "      <th></th>\n",
       "      <th></th>\n",
       "      <th></th>\n",
       "      <th></th>\n",
       "      <th></th>\n",
       "      <th></th>\n",
       "    </tr>\n",
       "  </thead>\n",
       "  <tbody>\n",
       "    <tr>\n",
       "      <th>2017-11-16</th>\n",
       "      <td>171.18</td>\n",
       "      <td>171.87</td>\n",
       "      <td>170.3000</td>\n",
       "      <td>171.10</td>\n",
       "      <td>23497326.0</td>\n",
       "      <td>0.0</td>\n",
       "      <td>1.0</td>\n",
       "      <td>171.18</td>\n",
       "      <td>171.87</td>\n",
       "      <td>170.3000</td>\n",
       "      <td>171.10</td>\n",
       "      <td>23497326.0</td>\n",
       "    </tr>\n",
       "    <tr>\n",
       "      <th>2017-11-17</th>\n",
       "      <td>171.04</td>\n",
       "      <td>171.39</td>\n",
       "      <td>169.6400</td>\n",
       "      <td>170.15</td>\n",
       "      <td>21665811.0</td>\n",
       "      <td>0.0</td>\n",
       "      <td>1.0</td>\n",
       "      <td>171.04</td>\n",
       "      <td>171.39</td>\n",
       "      <td>169.6400</td>\n",
       "      <td>170.15</td>\n",
       "      <td>21665811.0</td>\n",
       "    </tr>\n",
       "    <tr>\n",
       "      <th>2017-11-20</th>\n",
       "      <td>170.29</td>\n",
       "      <td>170.56</td>\n",
       "      <td>169.5600</td>\n",
       "      <td>169.98</td>\n",
       "      <td>15974387.0</td>\n",
       "      <td>0.0</td>\n",
       "      <td>1.0</td>\n",
       "      <td>170.29</td>\n",
       "      <td>170.56</td>\n",
       "      <td>169.5600</td>\n",
       "      <td>169.98</td>\n",
       "      <td>15974387.0</td>\n",
       "    </tr>\n",
       "    <tr>\n",
       "      <th>2017-11-21</th>\n",
       "      <td>170.78</td>\n",
       "      <td>173.70</td>\n",
       "      <td>170.7800</td>\n",
       "      <td>173.14</td>\n",
       "      <td>24875471.0</td>\n",
       "      <td>0.0</td>\n",
       "      <td>1.0</td>\n",
       "      <td>170.78</td>\n",
       "      <td>173.70</td>\n",
       "      <td>170.7800</td>\n",
       "      <td>173.14</td>\n",
       "      <td>24875471.0</td>\n",
       "    </tr>\n",
       "    <tr>\n",
       "      <th>2017-11-22</th>\n",
       "      <td>173.36</td>\n",
       "      <td>175.00</td>\n",
       "      <td>173.0500</td>\n",
       "      <td>174.96</td>\n",
       "      <td>24997274.0</td>\n",
       "      <td>0.0</td>\n",
       "      <td>1.0</td>\n",
       "      <td>173.36</td>\n",
       "      <td>175.00</td>\n",
       "      <td>173.0500</td>\n",
       "      <td>174.96</td>\n",
       "      <td>24997274.0</td>\n",
       "    </tr>\n",
       "    <tr>\n",
       "      <th>2017-11-24</th>\n",
       "      <td>175.10</td>\n",
       "      <td>175.50</td>\n",
       "      <td>174.6459</td>\n",
       "      <td>174.97</td>\n",
       "      <td>14026519.0</td>\n",
       "      <td>0.0</td>\n",
       "      <td>1.0</td>\n",
       "      <td>175.10</td>\n",
       "      <td>175.50</td>\n",
       "      <td>174.6459</td>\n",
       "      <td>174.97</td>\n",
       "      <td>14026519.0</td>\n",
       "    </tr>\n",
       "    <tr>\n",
       "      <th>2017-11-27</th>\n",
       "      <td>175.05</td>\n",
       "      <td>175.08</td>\n",
       "      <td>173.3400</td>\n",
       "      <td>174.09</td>\n",
       "      <td>20536313.0</td>\n",
       "      <td>0.0</td>\n",
       "      <td>1.0</td>\n",
       "      <td>175.05</td>\n",
       "      <td>175.08</td>\n",
       "      <td>173.3400</td>\n",
       "      <td>174.09</td>\n",
       "      <td>20536313.0</td>\n",
       "    </tr>\n",
       "    <tr>\n",
       "      <th>2017-11-28</th>\n",
       "      <td>174.30</td>\n",
       "      <td>174.87</td>\n",
       "      <td>171.8600</td>\n",
       "      <td>173.07</td>\n",
       "      <td>25468442.0</td>\n",
       "      <td>0.0</td>\n",
       "      <td>1.0</td>\n",
       "      <td>174.30</td>\n",
       "      <td>174.87</td>\n",
       "      <td>171.8600</td>\n",
       "      <td>173.07</td>\n",
       "      <td>25468442.0</td>\n",
       "    </tr>\n",
       "    <tr>\n",
       "      <th>2017-11-29</th>\n",
       "      <td>172.63</td>\n",
       "      <td>172.92</td>\n",
       "      <td>167.1600</td>\n",
       "      <td>169.48</td>\n",
       "      <td>40788324.0</td>\n",
       "      <td>0.0</td>\n",
       "      <td>1.0</td>\n",
       "      <td>172.63</td>\n",
       "      <td>172.92</td>\n",
       "      <td>167.1600</td>\n",
       "      <td>169.48</td>\n",
       "      <td>40788324.0</td>\n",
       "    </tr>\n",
       "    <tr>\n",
       "      <th>2017-11-30</th>\n",
       "      <td>170.43</td>\n",
       "      <td>172.14</td>\n",
       "      <td>168.4400</td>\n",
       "      <td>171.85</td>\n",
       "      <td>40172368.0</td>\n",
       "      <td>0.0</td>\n",
       "      <td>1.0</td>\n",
       "      <td>170.43</td>\n",
       "      <td>172.14</td>\n",
       "      <td>168.4400</td>\n",
       "      <td>171.85</td>\n",
       "      <td>40172368.0</td>\n",
       "    </tr>\n",
       "  </tbody>\n",
       "</table>\n",
       "</div>"
      ],
      "text/plain": [
       "              Open    High       Low   Close      Volume  Ex-Dividend  \\\n",
       "Date                                                                    \n",
       "2017-11-16  171.18  171.87  170.3000  171.10  23497326.0          0.0   \n",
       "2017-11-17  171.04  171.39  169.6400  170.15  21665811.0          0.0   \n",
       "2017-11-20  170.29  170.56  169.5600  169.98  15974387.0          0.0   \n",
       "2017-11-21  170.78  173.70  170.7800  173.14  24875471.0          0.0   \n",
       "2017-11-22  173.36  175.00  173.0500  174.96  24997274.0          0.0   \n",
       "2017-11-24  175.10  175.50  174.6459  174.97  14026519.0          0.0   \n",
       "2017-11-27  175.05  175.08  173.3400  174.09  20536313.0          0.0   \n",
       "2017-11-28  174.30  174.87  171.8600  173.07  25468442.0          0.0   \n",
       "2017-11-29  172.63  172.92  167.1600  169.48  40788324.0          0.0   \n",
       "2017-11-30  170.43  172.14  168.4400  171.85  40172368.0          0.0   \n",
       "\n",
       "            Split Ratio  Adj. Open  Adj. High  Adj. Low  Adj. Close  \\\n",
       "Date                                                                  \n",
       "2017-11-16          1.0     171.18     171.87  170.3000      171.10   \n",
       "2017-11-17          1.0     171.04     171.39  169.6400      170.15   \n",
       "2017-11-20          1.0     170.29     170.56  169.5600      169.98   \n",
       "2017-11-21          1.0     170.78     173.70  170.7800      173.14   \n",
       "2017-11-22          1.0     173.36     175.00  173.0500      174.96   \n",
       "2017-11-24          1.0     175.10     175.50  174.6459      174.97   \n",
       "2017-11-27          1.0     175.05     175.08  173.3400      174.09   \n",
       "2017-11-28          1.0     174.30     174.87  171.8600      173.07   \n",
       "2017-11-29          1.0     172.63     172.92  167.1600      169.48   \n",
       "2017-11-30          1.0     170.43     172.14  168.4400      171.85   \n",
       "\n",
       "            Adj. Volume  \n",
       "Date                     \n",
       "2017-11-16   23497326.0  \n",
       "2017-11-17   21665811.0  \n",
       "2017-11-20   15974387.0  \n",
       "2017-11-21   24875471.0  \n",
       "2017-11-22   24997274.0  \n",
       "2017-11-24   14026519.0  \n",
       "2017-11-27   20536313.0  \n",
       "2017-11-28   25468442.0  \n",
       "2017-11-29   40788324.0  \n",
       "2017-11-30   40172368.0  "
      ]
     },
     "execution_count": 5,
     "metadata": {},
     "output_type": "execute_result"
    }
   ],
   "source": [
    "aapl.tail(10)"
   ]
  },
  {
   "cell_type": "markdown",
   "metadata": {},
   "source": [
    "We might also be interested in some other general properties of our dataset, for example finding the number of rows using the \"len\" function"
   ]
  },
  {
   "cell_type": "code",
   "execution_count": 6,
   "metadata": {},
   "outputs": [
    {
     "data": {
      "text/plain": [
       "1487"
      ]
     },
     "execution_count": 6,
     "metadata": {},
     "output_type": "execute_result"
    }
   ],
   "source": [
    "len(aapl)"
   ]
  },
  {
   "cell_type": "markdown",
   "metadata": {},
   "source": [
    "The describe method gives summary statistics for the entire dataframe or for specific columns of the dataframe\n",
    "For example we might be interested in the summary statistics for the daily closing prices:"
   ]
  },
  {
   "cell_type": "code",
   "execution_count": 7,
   "metadata": {},
   "outputs": [
    {
     "data": {
      "text/plain": [
       "count    1487.000000\n",
       "mean      287.950825\n",
       "std       207.171888\n",
       "min        90.280000\n",
       "25%       112.120000\n",
       "50%       145.630000\n",
       "75%       513.019750\n",
       "max       702.100000\n",
       "Name: Close, dtype: float64"
      ]
     },
     "execution_count": 7,
     "metadata": {},
     "output_type": "execute_result"
    }
   ],
   "source": [
    "aapl['Close'].describe()"
   ]
  },
  {
   "cell_type": "markdown",
   "metadata": {},
   "source": [
    "...here we can see that during the time period we specified, Apple's closing stock price ranged between \\$90.28 and \\$702.10 per share"
   ]
  },
  {
   "cell_type": "markdown",
   "metadata": {},
   "source": [
    "To get an even clearer picture of our data and to spot any anomalies or interesting behaviour we want to plot it  \n",
    "\n",
    "Again it makes sense to do this for individual columns of the dataframe (i.e. individual time series)  \n",
    "\n",
    "Here we are going to plot the Close price and the Adjusted Close price:"
   ]
  },
  {
   "cell_type": "code",
   "execution_count": 10,
   "metadata": {},
   "outputs": [
    {
     "data": {
      "text/plain": [
       "[<matplotlib.lines.Line2D at 0xc73b748>]"
      ]
     },
     "execution_count": 10,
     "metadata": {},
     "output_type": "execute_result"
    },
    {
     "data": {
      "image/png": "[encoded data removed]",
      "text/plain": [
       "<matplotlib.figure.Figure at 0xc745208>"
      ]
     },
     "metadata": {},
     "output_type": "display_data"
    }
   ],
   "source": [
    "plt.plot(aapl['Close'])\n",
    "plt.plot(aapl['Adj. Close'])"
   ]
  },
  {
   "cell_type": "markdown",
   "metadata": {},
   "source": [
    "...this plot is small so let's adjust the size of the figure:"
   ]
  },
  {
   "cell_type": "code",
   "execution_count": 18,
   "metadata": {},
   "outputs": [
    {
     "data": {
      "text/plain": [
       "[<matplotlib.lines.Line2D at 0xd759c88>]"
      ]
     },
     "execution_count": 18,
     "metadata": {},
     "output_type": "execute_result"
    },
    {
     "data": {
      "image/png": "[encoded data removed]",
      "text/plain": [
       "<matplotlib.figure.Figure at 0xd8134a8>"
      ]
     },
     "metadata": {},
     "output_type": "display_data"
    }
   ],
   "source": [
    "width = 10\n",
    "height = 6\n",
    "plt.figure(figsize=(width, height))\n",
    "\n",
    "plt.plot(aapl['Close'])\n",
    "plt.plot(aapl['Adj. Close'])"
   ]
  },
  {
   "cell_type": "markdown",
   "metadata": {},
   "source": [
    "Looking at the two plots we see that the 'Close' series is clearly missing something that the 'Adj. Close' series is capturing \n",
    "\n",
    "The big jump that occurs around June 2014 is due to a *stock split*  \n",
    "\n",
    "While 'Close' gives the actual price listed for Apple in $ on each given trading day, the Adj. Close gives a better representation of an investor's performance had they held the stock over the entire period (a stock split does not impact an investor's overall PnL since the investor will receive more shares at the same time that those shares reduce in value)  \n",
    "\n",
    "...this demonstrates nicely the distinction between *price* and *adjusted price*"
   ]
  },
  {
   "cell_type": "markdown",
   "metadata": {},
   "source": [
    "Going forward, for ease of data handling we will use the adjusted price series"
   ]
  },
  {
   "cell_type": "markdown",
   "metadata": {},
   "source": [
    "Let's now construct a new dataframe to contain just the information we are interested in  \n",
    "To remind us of what the data actually looks like, we again call the head method:"
   ]
  },
  {
   "cell_type": "code",
   "execution_count": 15,
   "metadata": {},
   "outputs": [
    {
     "data": {
      "text/html": [
       "<div>\n",
       "<style>\n",
       "    .dataframe thead tr:only-child th {\n",
       "        text-align: right;\n",
       "    }\n",
       "\n",
       "    .dataframe thead th {\n",
       "        text-align: left;\n",
       "    }\n",
       "\n",
       "    .dataframe tbody tr th {\n",
       "        vertical-align: top;\n",
       "    }\n",
       "</style>\n",
       "<table border=\"1\" class=\"dataframe\">\n",
       "  <thead>\n",
       "    <tr style=\"text-align: right;\">\n",
       "      <th></th>\n",
       "      <th>Open</th>\n",
       "      <th>High</th>\n",
       "      <th>Low</th>\n",
       "      <th>Close</th>\n",
       "      <th>Volume</th>\n",
       "      <th>Ex-Dividend</th>\n",
       "      <th>Split Ratio</th>\n",
       "      <th>Adj. Open</th>\n",
       "      <th>Adj. High</th>\n",
       "      <th>Adj. Low</th>\n",
       "      <th>Adj. Close</th>\n",
       "      <th>Adj. Volume</th>\n",
       "    </tr>\n",
       "    <tr>\n",
       "      <th>Date</th>\n",
       "      <th></th>\n",
       "      <th></th>\n",
       "      <th></th>\n",
       "      <th></th>\n",
       "      <th></th>\n",
       "      <th></th>\n",
       "      <th></th>\n",
       "      <th></th>\n",
       "      <th></th>\n",
       "      <th></th>\n",
       "      <th></th>\n",
       "      <th></th>\n",
       "    </tr>\n",
       "  </thead>\n",
       "  <tbody>\n",
       "    <tr>\n",
       "      <th>2012-01-03</th>\n",
       "      <td>409.4000</td>\n",
       "      <td>412.50</td>\n",
       "      <td>409.00</td>\n",
       "      <td>411.23</td>\n",
       "      <td>10793600.0</td>\n",
       "      <td>0.0</td>\n",
       "      <td>1.0</td>\n",
       "      <td>52.613606</td>\n",
       "      <td>53.011999</td>\n",
       "      <td>52.562200</td>\n",
       "      <td>52.848787</td>\n",
       "      <td>75555200.0</td>\n",
       "    </tr>\n",
       "    <tr>\n",
       "      <th>2012-01-04</th>\n",
       "      <td>410.0000</td>\n",
       "      <td>414.68</td>\n",
       "      <td>409.28</td>\n",
       "      <td>413.44</td>\n",
       "      <td>9286500.0</td>\n",
       "      <td>0.0</td>\n",
       "      <td>1.0</td>\n",
       "      <td>52.690714</td>\n",
       "      <td>53.292160</td>\n",
       "      <td>52.598184</td>\n",
       "      <td>53.132802</td>\n",
       "      <td>65005500.0</td>\n",
       "    </tr>\n",
       "    <tr>\n",
       "      <th>2012-01-05</th>\n",
       "      <td>414.9500</td>\n",
       "      <td>418.55</td>\n",
       "      <td>412.67</td>\n",
       "      <td>418.03</td>\n",
       "      <td>9688200.0</td>\n",
       "      <td>0.0</td>\n",
       "      <td>1.0</td>\n",
       "      <td>53.326858</td>\n",
       "      <td>53.789509</td>\n",
       "      <td>53.033847</td>\n",
       "      <td>53.722681</td>\n",
       "      <td>67817400.0</td>\n",
       "    </tr>\n",
       "    <tr>\n",
       "      <th>2012-01-06</th>\n",
       "      <td>419.7700</td>\n",
       "      <td>422.75</td>\n",
       "      <td>419.22</td>\n",
       "      <td>422.40</td>\n",
       "      <td>11367600.0</td>\n",
       "      <td>0.0</td>\n",
       "      <td>1.0</td>\n",
       "      <td>53.946296</td>\n",
       "      <td>54.329267</td>\n",
       "      <td>53.875613</td>\n",
       "      <td>54.284287</td>\n",
       "      <td>79573200.0</td>\n",
       "    </tr>\n",
       "    <tr>\n",
       "      <th>2012-01-09</th>\n",
       "      <td>425.5001</td>\n",
       "      <td>427.75</td>\n",
       "      <td>421.35</td>\n",
       "      <td>421.73</td>\n",
       "      <td>14072300.0</td>\n",
       "      <td>0.0</td>\n",
       "      <td>1.0</td>\n",
       "      <td>54.682693</td>\n",
       "      <td>54.971837</td>\n",
       "      <td>54.149348</td>\n",
       "      <td>54.198183</td>\n",
       "      <td>98506100.0</td>\n",
       "    </tr>\n",
       "  </tbody>\n",
       "</table>\n",
       "</div>"
      ],
      "text/plain": [
       "                Open    High     Low   Close      Volume  Ex-Dividend  \\\n",
       "Date                                                                    \n",
       "2012-01-03  409.4000  412.50  409.00  411.23  10793600.0          0.0   \n",
       "2012-01-04  410.0000  414.68  409.28  413.44   9286500.0          0.0   \n",
       "2012-01-05  414.9500  418.55  412.67  418.03   9688200.0          0.0   \n",
       "2012-01-06  419.7700  422.75  419.22  422.40  11367600.0          0.0   \n",
       "2012-01-09  425.5001  427.75  421.35  421.73  14072300.0          0.0   \n",
       "\n",
       "            Split Ratio  Adj. Open  Adj. High   Adj. Low  Adj. Close  \\\n",
       "Date                                                                   \n",
       "2012-01-03          1.0  52.613606  53.011999  52.562200   52.848787   \n",
       "2012-01-04          1.0  52.690714  53.292160  52.598184   53.132802   \n",
       "2012-01-05          1.0  53.326858  53.789509  53.033847   53.722681   \n",
       "2012-01-06          1.0  53.946296  54.329267  53.875613   54.284287   \n",
       "2012-01-09          1.0  54.682693  54.971837  54.149348   54.198183   \n",
       "\n",
       "            Adj. Volume  \n",
       "Date                     \n",
       "2012-01-03   75555200.0  \n",
       "2012-01-04   65005500.0  \n",
       "2012-01-05   67817400.0  \n",
       "2012-01-06   79573200.0  \n",
       "2012-01-09   98506100.0  "
      ]
     },
     "execution_count": 15,
     "metadata": {},
     "output_type": "execute_result"
    }
   ],
   "source": [
    "aapl.head()"
   ]
  },
  {
   "cell_type": "markdown",
   "metadata": {},
   "source": [
    "We are now going to filter for just the columns beginning with \"Adj. ...\", using pandas column slicing method, and explicitly stating which columns we want to keep  \n",
    "\n",
    "We will give our dataframe a new name: \"aapl_adj\""
   ]
  },
  {
   "cell_type": "code",
   "execution_count": 16,
   "metadata": {},
   "outputs": [
    {
     "data": {
      "text/html": [
       "<div>\n",
       "<style>\n",
       "    .dataframe thead tr:only-child th {\n",
       "        text-align: right;\n",
       "    }\n",
       "\n",
       "    .dataframe thead th {\n",
       "        text-align: left;\n",
       "    }\n",
       "\n",
       "    .dataframe tbody tr th {\n",
       "        vertical-align: top;\n",
       "    }\n",
       "</style>\n",
       "<table border=\"1\" class=\"dataframe\">\n",
       "  <thead>\n",
       "    <tr style=\"text-align: right;\">\n",
       "      <th></th>\n",
       "      <th>Adj. Open</th>\n",
       "      <th>Adj. High</th>\n",
       "      <th>Adj. Low</th>\n",
       "      <th>Adj. Close</th>\n",
       "      <th>Adj. Volume</th>\n",
       "    </tr>\n",
       "    <tr>\n",
       "      <th>Date</th>\n",
       "      <th></th>\n",
       "      <th></th>\n",
       "      <th></th>\n",
       "      <th></th>\n",
       "      <th></th>\n",
       "    </tr>\n",
       "  </thead>\n",
       "  <tbody>\n",
       "    <tr>\n",
       "      <th>2012-01-03</th>\n",
       "      <td>52.613606</td>\n",
       "      <td>53.011999</td>\n",
       "      <td>52.562200</td>\n",
       "      <td>52.848787</td>\n",
       "      <td>75555200.0</td>\n",
       "    </tr>\n",
       "    <tr>\n",
       "      <th>2012-01-04</th>\n",
       "      <td>52.690714</td>\n",
       "      <td>53.292160</td>\n",
       "      <td>52.598184</td>\n",
       "      <td>53.132802</td>\n",
       "      <td>65005500.0</td>\n",
       "    </tr>\n",
       "    <tr>\n",
       "      <th>2012-01-05</th>\n",
       "      <td>53.326858</td>\n",
       "      <td>53.789509</td>\n",
       "      <td>53.033847</td>\n",
       "      <td>53.722681</td>\n",
       "      <td>67817400.0</td>\n",
       "    </tr>\n",
       "    <tr>\n",
       "      <th>2012-01-06</th>\n",
       "      <td>53.946296</td>\n",
       "      <td>54.329267</td>\n",
       "      <td>53.875613</td>\n",
       "      <td>54.284287</td>\n",
       "      <td>79573200.0</td>\n",
       "    </tr>\n",
       "    <tr>\n",
       "      <th>2012-01-09</th>\n",
       "      <td>54.682693</td>\n",
       "      <td>54.971837</td>\n",
       "      <td>54.149348</td>\n",
       "      <td>54.198183</td>\n",
       "      <td>98506100.0</td>\n",
       "    </tr>\n",
       "  </tbody>\n",
       "</table>\n",
       "</div>"
      ],
      "text/plain": [
       "            Adj. Open  Adj. High   Adj. Low  Adj. Close  Adj. Volume\n",
       "Date                                                                \n",
       "2012-01-03  52.613606  53.011999  52.562200   52.848787   75555200.0\n",
       "2012-01-04  52.690714  53.292160  52.598184   53.132802   65005500.0\n",
       "2012-01-05  53.326858  53.789509  53.033847   53.722681   67817400.0\n",
       "2012-01-06  53.946296  54.329267  53.875613   54.284287   79573200.0\n",
       "2012-01-09  54.682693  54.971837  54.149348   54.198183   98506100.0"
      ]
     },
     "execution_count": 16,
     "metadata": {},
     "output_type": "execute_result"
    }
   ],
   "source": [
    "aapl_adj = aapl[['Adj. Open', 'Adj. High', 'Adj. Low', 'Adj. Close', 'Adj. Volume']]\n",
    "aapl_adj.head()"
   ]
  },
  {
   "cell_type": "markdown",
   "metadata": {},
   "source": [
    "Let's sense check our data once more with a plot, this time we will plot the high and low on the same chart"
   ]
  },
  {
   "cell_type": "code",
   "execution_count": 19,
   "metadata": {},
   "outputs": [
    {
     "data": {
      "text/plain": [
       "<matplotlib.legend.Legend at 0xdc4ca20>"
      ]
     },
     "execution_count": 19,
     "metadata": {},
     "output_type": "execute_result"
    },
    {
     "data": {
      "image/png": "[encoded data removed]",
      "text/plain": [
       "<matplotlib.figure.Figure at 0xd990b38>"
      ]
     },
     "metadata": {},
     "output_type": "display_data"
    }
   ],
   "source": [
    "width = 10\n",
    "height = 6\n",
    "plt.figure(figsize=(width, height))\n",
    "\n",
    "plt.plot(aapl_adj['Adj. High'])\n",
    "plt.plot(aapl_adj['Adj. Low'])\n",
    "plt.legend(loc='best')"
   ]
  },
  {
   "cell_type": "markdown",
   "metadata": {},
   "source": [
    "Here we can see that the High always appear to be above the Low, which we expect  \n",
    "One thing we might want to investigate is the sharp downward spike in the Low price sometime around mid-2015\n",
    "This could be due to a particularly volatile trading day, or perhaps it is an error in the data"
   ]
  },
  {
   "cell_type": "markdown",
   "metadata": {},
   "source": [
    "To see this more clearly we can plot for just the year 2015  \n",
    "Let's define a new dataframe called \"sample\" to make this easier:"
   ]
  },
  {
   "cell_type": "code",
   "execution_count": 25,
   "metadata": {},
   "outputs": [
    {
     "data": {
      "text/plain": [
       "<matplotlib.legend.Legend at 0xe3ffdd8>"
      ]
     },
     "execution_count": 25,
     "metadata": {},
     "output_type": "execute_result"
    },
    {
     "data": {
      "image/png": "[encoded data removed]",
      "text/plain": [
       "<matplotlib.figure.Figure at 0xe0950f0>"
      ]
     },
     "metadata": {},
     "output_type": "display_data"
    }
   ],
   "source": [
    "sample = aapl_adj['2015']\n",
    "\n",
    "width = 10\n",
    "height = 6\n",
    "plt.figure(figsize=(width, height))\n",
    "\n",
    "plt.plot(sample['Adj. High'])\n",
    "plt.plot(sample['Adj. Low'])\n",
    "plt.legend(loc='best')"
   ]
  },
  {
   "cell_type": "markdown",
   "metadata": {},
   "source": [
    "...the anomaly appears to have happened sometime in August 2015  \n",
    "Drilling down further and just looking at the month of August:"
   ]
  },
  {
   "cell_type": "code",
   "execution_count": 27,
   "metadata": {},
   "outputs": [
    {
     "data": {
      "text/plain": [
       "<matplotlib.legend.Legend at 0xeb68c18>"
      ]
     },
     "execution_count": 27,
     "metadata": {},
     "output_type": "execute_result"
    },
    {
     "data": {
      "image/png": "[encoded data removed]",
      "text/plain": [
       "<matplotlib.figure.Figure at 0xe0955c0>"
      ]
     },
     "metadata": {},
     "output_type": "display_data"
    }
   ],
   "source": [
    "sample = aapl_adj['2015-08']\n",
    "\n",
    "width = 15\n",
    "height = 6\n",
    "plt.figure(figsize=(width, height))\n",
    "\n",
    "plt.plot(sample['Adj. High'])\n",
    "plt.plot(sample['Adj. Low'])\n",
    "plt.legend(loc='best')"
   ]
  },
  {
   "cell_type": "markdown",
   "metadata": {},
   "source": [
    "...we can now see that the event took place on 24th August 2015  "
   ]
  },
  {
   "cell_type": "markdown",
   "metadata": {},
   "source": [
    "Let's create a separate time series for the daily trading range of the stock (caluclated as high - low)  \n",
    "Then we call the \"nlargest\" method to see the n largest values in that series along with their index:"
   ]
  },
  {
   "cell_type": "code",
   "execution_count": 28,
   "metadata": {},
   "outputs": [
    {
     "data": {
      "text/plain": [
       "Date\n",
       "2015-08-24    16.161796\n",
       "2017-06-09     9.132944\n",
       "2014-12-01     7.581033\n",
       "2015-08-25     7.320909\n",
       "2017-07-27     6.662965\n",
       "2014-09-09     6.564645\n",
       "2015-08-21     6.017383\n",
       "2017-11-29     5.760000\n",
       "2015-08-12     5.570048\n",
       "2015-09-29     5.435366\n",
       "dtype: float64"
      ]
     },
     "execution_count": 28,
     "metadata": {},
     "output_type": "execute_result"
    }
   ],
   "source": [
    "trading_range = aapl_adj['Adj. High'] - aapl_adj['Adj. Low']\n",
    "trading_range.nlargest(10)"
   ]
  },
  {
   "cell_type": "markdown",
   "metadata": {},
   "source": [
    "...here we have further confirmation that 2015-08-24 did indeed have the greatest trading range, and by some margin"
   ]
  },
  {
   "cell_type": "markdown",
   "metadata": {},
   "source": [
    "###### Let's now look at some more data analysis methods  \n",
    "\n",
    "The \"diff\" method in pandas allows us to quickly calculate the single period returns (here daly returns)  \n",
    "For example we can compute the daily returns from the daily adjusted Closing prices:"
   ]
  },
  {
   "cell_type": "code",
   "execution_count": 30,
   "metadata": {},
   "outputs": [
    {
     "data": {
      "text/plain": [
       "Date\n",
       "2012-01-03         NaN\n",
       "2012-01-04    0.284016\n",
       "2012-01-05    0.589879\n",
       "2012-01-06    0.561606\n",
       "2012-01-09   -0.086104\n",
       "Name: Adj. Close, dtype: float64"
      ]
     },
     "execution_count": 30,
     "metadata": {},
     "output_type": "execute_result"
    }
   ],
   "source": [
    "ret = aapl_adj['Adj. Close'].diff()\n",
    "ret.head()"
   ]
  },
  {
   "cell_type": "markdown",
   "metadata": {},
   "source": [
    "Similarly if we are interested in the perecntage returns we can use \"pct_change\":"
   ]
  },
  {
   "cell_type": "code",
   "execution_count": 31,
   "metadata": {},
   "outputs": [
    {
     "data": {
      "text/plain": [
       "Date\n",
       "2012-01-03         NaN\n",
       "2012-01-04    0.005374\n",
       "2012-01-05    0.011102\n",
       "2012-01-06    0.010454\n",
       "2012-01-09   -0.001586\n",
       "Name: Adj. Close, dtype: float64"
      ]
     },
     "execution_count": 31,
     "metadata": {},
     "output_type": "execute_result"
    }
   ],
   "source": [
    "pct_ret = aapl_adj['Adj. Close'].pct_change()\n",
    "pct_ret.head()"
   ]
  },
  {
   "cell_type": "markdown",
   "metadata": {},
   "source": [
    "Note that the first entry will be \"NaN\" because both \"diff\" and \"pct_change\" need two values to be able to calculate  \n",
    "\n",
    "Finally it is useful to call the \"describe\" method again, to see the mean and range of *returns* that Apple has exhibited over this period:"
   ]
  },
  {
   "cell_type": "code",
   "execution_count": 32,
   "metadata": {},
   "outputs": [
    {
     "data": {
      "text/plain": [
       "count    1486.000000\n",
       "mean        0.080082\n",
       "std         1.470725\n",
       "min        -8.235044\n",
       "25%        -0.615917\n",
       "50%         0.059879\n",
       "75%         0.863231\n",
       "max         7.308599\n",
       "Name: Adj. Close, dtype: float64"
      ]
     },
     "execution_count": 32,
     "metadata": {},
     "output_type": "execute_result"
    }
   ],
   "source": [
    "ret.describe()"
   ]
  },
  {
   "cell_type": "code",
   "execution_count": 33,
   "metadata": {},
   "outputs": [
    {
     "data": {
      "text/plain": [
       "count    1486.000000\n",
       "mean        0.000918\n",
       "std         0.015757\n",
       "min        -0.123549\n",
       "25%        -0.006661\n",
       "50%         0.000521\n",
       "75%         0.009293\n",
       "max         0.088741\n",
       "Name: Adj. Close, dtype: float64"
      ]
     },
     "execution_count": 33,
     "metadata": {},
     "output_type": "execute_result"
    }
   ],
   "source": [
    "pct_ret.describe()"
   ]
  },
  {
   "cell_type": "markdown",
   "metadata": {},
   "source": [
    "The mean daily return was +\\$0.08 and the mean percentage change was +0.09%\n",
    "\n",
    "We will be using return series like the ones we've just constructed in our future strategy development, for example in regression analysis to identify trends"
   ]
  },
  {
   "cell_type": "markdown",
   "metadata": {},
   "source": [
    "###### That concludes this introductory notebook  !\n",
    "\n",
    "**We have covered:** importing packages, pulling data into Python, performing summary analysis of the data, basic plotting and dataframe manipulation  \n"
   ]
  }
 ],
 "metadata": {
  "kernelspec": {
   "display_name": "Python 2",
   "language": "python",
   "name": "python2"
  },
  "language_info": {
   "codemirror_mode": {
    "name": "ipython",
    "version": 2
   },
   "file_extension": ".py",
   "mimetype": "text/x-python",
   "name": "python",
   "nbconvert_exporter": "python",
   "pygments_lexer": "ipython2",
   "version": "2.7.14"
  }
 },
 "nbformat": 4,
 "nbformat_minor": 2
}
